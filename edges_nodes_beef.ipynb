{
 "cells": [
  {
   "cell_type": "markdown",
   "id": "df889890-ad5f-4958-8914-a9202fed5ddc",
   "metadata": {},
   "source": [
    "# Beef Export Network (Paraguay) - Edge and Node Construction"
   ]
  },
  {
   "cell_type": "markdown",
   "id": "23491905-5c24-4d36-8910-db115d1e2f3d",
   "metadata": {},
   "source": [
    "This notebook constructs the edge and node lists for the Paraguayan beef export network. \n",
    "The goal is to prepare structured inputs for network analysis by identifying co-export relationships between firms (edges) and summarizing exporter-level attributes (nodes)."
   ]
  },
  {
   "cell_type": "markdown",
   "id": "dbc9d45e-3430-4142-8a13-a965e9d3b9ee",
   "metadata": {},
   "source": [
    "### Section 1: Edge List - Co-exports by Year and Destination"
   ]
  },
  {
   "cell_type": "code",
   "execution_count": 58,
   "id": "fcc2c7e0-c898-4345-9164-8398e02f13b7",
   "metadata": {},
   "outputs": [],
   "source": [
    "import pandas as pd\n",
    "from itertools import combinations"
   ]
  },
  {
   "cell_type": "code",
   "execution_count": 60,
   "id": "bfde5e72-0029-4cc1-82ff-83105275225b",
   "metadata": {},
   "outputs": [],
   "source": [
    "# Load beef export transaction dataset (Trase v1.2.4)\n",
    "df = pd.read_csv(\"paraguay_beef_v1_2_4.csv\")"
   ]
  },
  {
   "cell_type": "code",
   "execution_count": 62,
   "id": "bd4e7128-d017-459a-966b-0cc9355e24d4",
   "metadata": {},
   "outputs": [],
   "source": [
    "# Select relevant columns\n",
    "df_edges = df[['year', 'country_of_destination', 'exporter_group', 'fob', 'volume', 'land_use']].copy()"
   ]
  },
  {
   "cell_type": "code",
   "execution_count": 64,
   "id": "4d5ffb4c-332b-4e62-9cff-174a3c9e03b4",
   "metadata": {},
   "outputs": [],
   "source": [
    "# Drop rows with missing key values\n",
    "df_edges = df_edges.dropna(subset=['year', 'country_of_destination', 'exporter_group', 'fob'])"
   ]
  },
  {
   "cell_type": "code",
   "execution_count": 66,
   "id": "1e0cbff7-1aa6-4e3a-9ed1-2a2f6828eb36",
   "metadata": {},
   "outputs": [],
   "source": [
    "# Initialize list to store edges\n",
    "edge_list = []\n",
    "\n",
    "# Group by year and destination country\n",
    "for (year, country), group in df_edges.groupby(['year', 'country_of_destination']):\n",
    "    # Aggregate FOB by exporter\n",
    "    exporters = group.groupby('exporter_group')['fob'].sum().reset_index()\n",
    "\n",
    "    # Generate pairwise combinations of exporters\n",
    "    for (exp1, fob1), (exp2, fob2) in combinations(exporters.values, 2):\n",
    "        weight = fob1 + fob2  # Combined FOB value as edge weight\n",
    "        edge_list.append({\n",
    "            'source': exp1.strip().upper(),\n",
    "            'target': exp2.strip().upper(),\n",
    "            'year': year,\n",
    "            'country': country,\n",
    "            'weight': weight\n",
    "        })"
   ]
  },
  {
   "cell_type": "code",
   "execution_count": 68,
   "id": "a17f7c7d-cea0-49e7-a25a-a6c88cea03f7",
   "metadata": {},
   "outputs": [],
   "source": [
    "# Create edge DataFrame\n",
    "edges_df = pd.DataFrame(edge_list)"
   ]
  },
  {
   "cell_type": "code",
   "execution_count": 70,
   "id": "06711c5b-901b-4f96-b0c9-541bcb77b47f",
   "metadata": {},
   "outputs": [],
   "source": [
    "# Export to CSV for network analysis\n",
    "edges_df.to_csv(\"beef_coexport_edges.csv\", index=False)"
   ]
  },
  {
   "cell_type": "markdown",
   "id": "85c530c3-5999-4b6f-8e67-a1a51fed034a",
   "metadata": {},
   "source": [
    "### Section 2: Node List - Aggregate exporter-level attributes across all years"
   ]
  },
  {
   "cell_type": "code",
   "execution_count": 73,
   "id": "ed74f223-13c6-4084-b04b-7172130520b7",
   "metadata": {},
   "outputs": [],
   "source": [
    "# Standardize exporter names to ensure consistency\n",
    "df['exporter_group'] = df['exporter_group'].str.strip().str.upper()"
   ]
  },
  {
   "cell_type": "code",
   "execution_count": 75,
   "id": "32dded44-fbb0-4786-9f3a-85129331dbe3",
   "metadata": {},
   "outputs": [],
   "source": [
    "# Select relevant columns\n",
    "df_nodes = df[['exporter_group', 'fob', 'volume', 'land_use']].copy()"
   ]
  },
  {
   "cell_type": "code",
   "execution_count": 77,
   "id": "f387a8f2-0623-472f-8da0-33d9e95ff665",
   "metadata": {},
   "outputs": [],
   "source": [
    "# Drop rows with missing values\n",
    "df_nodes = df_nodes.dropna(subset=['fob', 'volume', 'land_use'])"
   ]
  },
  {
   "cell_type": "code",
   "execution_count": 79,
   "id": "e2b2d79b-ee92-4faf-80f0-92f3255a794b",
   "metadata": {},
   "outputs": [],
   "source": [
    "# Aggregate node-level attributes by exporter\n",
    "nodes_df = (\n",
    "    df_nodes\n",
    "    .groupby('exporter_group')\n",
    "    .agg(\n",
    "        total_fob_value=('fob', 'sum'),\n",
    "        total_volume=('volume', 'sum'),\n",
    "        total_land_use=('land_use', 'sum')\n",
    "    )\n",
    "    .reset_index()\n",
    ")"
   ]
  },
  {
   "cell_type": "code",
   "execution_count": 81,
   "id": "005edced-88fd-49d5-b67c-aa41e10c6689",
   "metadata": {},
   "outputs": [],
   "source": [
    "# Rename identifier column\n",
    "nodes_df.rename(columns={'exporter_group': 'Id'}, inplace=True)"
   ]
  },
  {
   "cell_type": "code",
   "execution_count": 83,
   "id": "a7ac75b3-97dc-43ed-9e4a-a62ab008d78a",
   "metadata": {},
   "outputs": [],
   "source": [
    "# Flag transnational corporations\n",
    "transnational_firms = [\n",
    "    'JBS',\n",
    "    'MINERVA',\n",
    "    'HAWKER INTERNATIONAL',\n",
    "    'SWEET'\n",
    "]\n",
    "\n",
    "nodes_df['transnational'] = nodes_df['Id'].apply(lambda x: 'Oui' if x in transnational_firms else 'Non')"
   ]
  },
  {
   "cell_type": "code",
   "execution_count": 85,
   "id": "2c0f49e0-9b79-4a8f-badb-600a00b5dfbe",
   "metadata": {},
   "outputs": [],
   "source": [
    "# Export node list to CSV\n",
    "nodes_df.to_csv(\"beef_export_nodes.csv\", index=False)"
   ]
  },
  {
   "cell_type": "code",
   "execution_count": null,
   "id": "9b1a417d-586a-4ace-aa0d-4cc79b01b1b9",
   "metadata": {},
   "outputs": [],
   "source": []
  }
 ],
 "metadata": {
  "kernelspec": {
   "display_name": "Python [conda env:base] *",
   "language": "python",
   "name": "conda-base-py"
  },
  "language_info": {
   "codemirror_mode": {
    "name": "ipython",
    "version": 3
   },
   "file_extension": ".py",
   "mimetype": "text/x-python",
   "name": "python",
   "nbconvert_exporter": "python",
   "pygments_lexer": "ipython3",
   "version": "3.12.7"
  }
 },
 "nbformat": 4,
 "nbformat_minor": 5
}
