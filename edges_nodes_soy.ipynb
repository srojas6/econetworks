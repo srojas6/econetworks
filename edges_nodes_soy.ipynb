{
 "cells": [
  {
   "cell_type": "markdown",
   "id": "5a745fa5-22b4-45df-9ec4-091d0d90d1a3",
   "metadata": {},
   "source": [
    "# Soybean Export Network (Paraguay) - Edge and Node Construction"
   ]
  },
  {
   "cell_type": "markdown",
   "id": "3863499e-02dc-4567-9d59-51197712f569",
   "metadata": {},
   "source": [
    "This notebook constructs the edge and node lists for the Paraguayan soybean export network. \n",
    "The goal is to prepare structured inputs for network analysis by identifying co-export relationships between firms (edges) and summarizing exporter-level attributes (nodes)."
   ]
  },
  {
   "cell_type": "markdown",
   "id": "beaa894d-e417-4ae0-b484-d0d3f8cd9c91",
   "metadata": {},
   "source": [
    "### Section 1: Edge List - Co-exports by Year and Destination"
   ]
  },
  {
   "cell_type": "code",
   "execution_count": 64,
   "id": "9c484551-dd25-4255-a9ee-c2263d64e2f4",
   "metadata": {},
   "outputs": [],
   "source": [
    "import pandas as pd\n",
    "from itertools import combinations"
   ]
  },
  {
   "cell_type": "code",
   "execution_count": 66,
   "id": "68cf84ac-d399-454f-9070-2f58a82bfdca",
   "metadata": {},
   "outputs": [],
   "source": [
    "# 1. Load the dataset\n",
    "df = pd.read_csv(\"paraguay_soy_v1_2_6.csv\")"
   ]
  },
  {
   "cell_type": "code",
   "execution_count": 68,
   "id": "20dc30bf-dbf5-448e-a1de-6f5def51a507",
   "metadata": {},
   "outputs": [],
   "source": [
    "# 2. Select relevant columns for edge construction\n",
    "df_edges = df[['year', 'country_of_destination', 'exporter_group', 'fob']].copy()"
   ]
  },
  {
   "cell_type": "code",
   "execution_count": 70,
   "id": "14b9d3c1-d25a-40c7-b748-9ab5f42957d6",
   "metadata": {},
   "outputs": [],
   "source": [
    "# 3. Drop rows with missing values\n",
    "df_edges.dropna(subset=['year', 'country_of_destination', 'exporter_group', 'fob'], inplace=True)"
   ]
  },
  {
   "cell_type": "code",
   "execution_count": 72,
   "id": "db4446aa-6b09-47de-9802-32e362ba6a30",
   "metadata": {},
   "outputs": [],
   "source": [
    "# 4. Initialize an empty list to store edges\n",
    "edge_list = []"
   ]
  },
  {
   "cell_type": "code",
   "execution_count": 74,
   "id": "1488e096-db82-44f8-8db0-e8f2a55df8ef",
   "metadata": {},
   "outputs": [],
   "source": [
    "# 5. Group data by year and destination country\n",
    "for (year, country), group in df_edges.groupby(['year', 'country_of_destination']):\n",
    "    # Aggregate total FOB per exporter\n",
    "    exporters = group.groupby('exporter_group')['fob'].sum().reset_index()\n",
    "\n",
    "    # 6. Generate all possible exporter pair combinations for the given year and country\n",
    "    for (exp1, fob1), (exp2, fob2) in combinations(exporters.values, 2):\n",
    "        # Define edge weight as the sum of both FOB values (alternatives: average, min, max)\n",
    "        weight = fob1 + fob2\n",
    "        edge_list.append({\n",
    "            'source': exp1,\n",
    "            'target': exp2,\n",
    "            'year': year,\n",
    "            'country': country,\n",
    "            'weight': weight\n",
    "        })"
   ]
  },
  {
   "cell_type": "code",
   "execution_count": 76,
   "id": "fe2e1b5a-1e3d-45c6-b1ec-b7c85415a192",
   "metadata": {},
   "outputs": [],
   "source": [
    "# 7. Convert the edge list into a DataFrame\n",
    "edges_df = pd.DataFrame(edge_list)"
   ]
  },
  {
   "cell_type": "code",
   "execution_count": 78,
   "id": "ba2c628d-bfdb-43f6-9867-2ff77f690736",
   "metadata": {},
   "outputs": [],
   "source": [
    "# 8. Export the edge list to a CSV file\n",
    "edges_df.to_csv(\"soybean_coexport_edges.csv\", index=False)"
   ]
  },
  {
   "cell_type": "markdown",
   "id": "6a59a33c-57d7-4385-b0a0-7e905b123df2",
   "metadata": {},
   "source": [
    "### Section 2: Node List - Aggregate exporter-level attributes across all years"
   ]
  },
  {
   "cell_type": "code",
   "execution_count": 81,
   "id": "51d9ac2c-f652-4e98-bdc8-9d1c066129ce",
   "metadata": {},
   "outputs": [],
   "source": [
    "# 1. Standardize exporter names\n",
    "df['exporter_group'] = df['exporter_group'].str.strip().str.upper()"
   ]
  },
  {
   "cell_type": "code",
   "execution_count": 83,
   "id": "e1a42d5d-2bd4-4a48-80f9-030fd76786de",
   "metadata": {},
   "outputs": [],
   "source": [
    "# 2. Select relevant columns\n",
    "df_nodes = df[['exporter_group', 'fob', 'volume', 'land_use']].copy()"
   ]
  },
  {
   "cell_type": "code",
   "execution_count": 85,
   "id": "b7295be6-c25b-495a-a83b-6a88b000c3cd",
   "metadata": {},
   "outputs": [],
   "source": [
    "# 3. Drop rows with missing values\n",
    "df_nodes.dropna(subset=['fob', 'volume', 'land_use'], inplace=True)"
   ]
  },
  {
   "cell_type": "code",
   "execution_count": 87,
   "id": "a4975464-36ea-4a19-b991-4613c19fc04e",
   "metadata": {},
   "outputs": [],
   "source": [
    "# 4. Aggregate attributes by exporter group\n",
    "nodes_df = (\n",
    "    df_nodes\n",
    "    .groupby('exporter_group')\n",
    "    .agg(\n",
    "        total_fob_value=('fob', 'sum'),\n",
    "        total_volume=('volume', 'sum'),\n",
    "        total_land_use=('land_use', 'sum')\n",
    "    )\n",
    "    .reset_index()\n",
    ")"
   ]
  },
  {
   "cell_type": "code",
   "execution_count": 89,
   "id": "0e570f05-d874-4f97-b59d-1574453e9d48",
   "metadata": {},
   "outputs": [],
   "source": [
    "# 5. Rename identifier column for clarity\n",
    "nodes_df.rename(columns={'exporter_group': 'Id'}, inplace=True)"
   ]
  },
  {
   "cell_type": "code",
   "execution_count": 91,
   "id": "0f6e8182-c9e4-4c40-b8d4-c396da1e52cb",
   "metadata": {},
   "outputs": [],
   "source": [
    "# 6. Flag transnational corporations\n",
    "transnational_firms = [\n",
    "    \"ADM\", \"AMAGGI\", \"BASF\", \"BAYER\", \"BUNGE\", \"CARGILL\", \"CHS\", \"COFCO\",\n",
    "    \"LOUIS DREYFUS\", \"SODRUGESTVO\", \"SYNGENTA\", \"VICENTIN PARAGUAY\", \"GL SOUTH AMERICA\"\n",
    "]\n",
    "\n",
    "nodes_df['transnational'] = nodes_df['Id'].apply(lambda x: 'Yes' if x in transnational_firms else 'No')"
   ]
  },
  {
   "cell_type": "code",
   "execution_count": 93,
   "id": "f6996146-f627-40f5-af63-96f1d044fa81",
   "metadata": {},
   "outputs": [],
   "source": [
    "# 7. Export the node list to CSV\n",
    "nodes_df.to_csv(\"soybean_export_nodes.csv\", index=False)"
   ]
  }
 ],
 "metadata": {
  "kernelspec": {
   "display_name": "Python [conda env:base] *",
   "language": "python",
   "name": "conda-base-py"
  },
  "language_info": {
   "codemirror_mode": {
    "name": "ipython",
    "version": 3
   },
   "file_extension": ".py",
   "mimetype": "text/x-python",
   "name": "python",
   "nbconvert_exporter": "python",
   "pygments_lexer": "ipython3",
   "version": "3.12.7"
  }
 },
 "nbformat": 4,
 "nbformat_minor": 5
}
